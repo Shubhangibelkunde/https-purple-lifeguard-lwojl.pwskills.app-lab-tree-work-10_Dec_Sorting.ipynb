{
 "cells": [
  {
   "cell_type": "code",
   "execution_count": null,
   "id": "a0661fd8-a4e9-4a18-8354-d3b501c4c357",
   "metadata": {},
   "outputs": [],
   "source": [
    "Problem 1.Given an array of n numbers, give an algorithm which gives the element appearing maximum \n",
    "number of times?"
   ]
  },
  {
   "cell_type": "code",
   "execution_count": 1,
   "id": "e971b5e0-e1f3-4c75-8b28-627767ecdc7c",
   "metadata": {},
   "outputs": [],
   "source": [
    "def findmaxoccuringelement(arr):\n",
    "    ## sort the array\n",
    "    def bubblesort(arr):\n",
    "        for i in range(len(arr)-1,0,-1):\n",
    "            for j in range (i):\n",
    "                if (arr[j]>arr[j+1]):\n",
    "                    arr[j],arr[j+1] = arr[j+1],arr[j]\n",
    "    \n",
    "    maxnum = arr[0] #initialize the max num to the first element of the array\n",
    "    currentnum = arr[0] #initialize the current num to the first element of the array\n",
    "    currentnum = 1 #initialize count for the first element\n",
    "    \n",
    "    ## travarse the sorted array\n",
    "    for i in range(len(arr)-1):\n",
    "        if arr[i] == currentnum:\n",
    "            currentCount += 1 ##increment the count \n",
    "            \n",
    "        else:\n",
    "            if currentnum > maxnum:\n",
    "                maxnum = currentnum\n",
    "                maxCount = currentCount\n",
    "                \n",
    "                ##Reset the currentnum and currentcount for the new num\n",
    "                currentnum = arr[i]\n",
    "                currentCount = 1\n",
    "                \n",
    "         ##check the last element\n",
    "    if currentCount > maxCount:\n",
    "        maxnum = currentnum\n",
    "                    \n",
    "     ##return the element with the max count\n",
    "    return maxnum          \n",
    "    "
   ]
  },
  {
   "cell_type": "code",
   "execution_count": null,
   "id": "5f463cc7-ed33-4dfb-b2b7-8f4608437162",
   "metadata": {},
   "outputs": [],
   "source": [
    "Problem 2 : We are given a list of n-1 integers and these integers are in the range of 1 to n . There are no \n",
    "duplicates in the list. One of the integers is missing in the list. Give an algorithm to find that element Ex: \n",
    "[1,2,4,6,3,7,8] 5 is the missing num"
   ]
  },
  {
   "cell_type": "code",
   "execution_count": 2,
   "id": "ec4e5dfd-bf04-4dd9-b9c2-324934ab624e",
   "metadata": {},
   "outputs": [],
   "source": [
    "def findmissingnum(arr):\n",
    "    \n",
    "    ##sort the arr\n",
    "     def bubblesort(arr):\n",
    "        for i in range(len(arr)-1,0,-1):\n",
    "            for j in range (i):\n",
    "                if (arr[j]>arr[j+1]):\n",
    "                    arr[j],arr[j+1] = arr[j+1],arr[j]\n",
    "                    \n",
    "        ##check for the missing element\n",
    "        n = len(arr)+1 ##since n-1 elements and one is missing\n",
    "        for i in range(n - 1):\n",
    "            if arr[i] != i + 1 :\n",
    "                return i + 1 ##missing element found\n",
    "            \n",
    "        return n\n",
    "    \n",
    "        arr = [1,2,4,6,3,7,8]\n",
    "        bubblesort([1,2,4,6,3,7,8])\n",
    "        missing_num = findmissingnum([1,2,4,6,3,7,8])\n",
    "        print(f\" the missing number is : {missing_num}\")\n",
    "            "
   ]
  },
  {
   "cell_type": "code",
   "execution_count": null,
   "id": "41d05d8c-6149-47d7-8e08-f43161a21aff",
   "metadata": {},
   "outputs": [],
   "source": [
    "Problem 3 : Given an array of n positive numbers. All numbers occurs even number of times except 1 which \n",
    "occurs odd number of times. Find that number in O(n) time and O(1) space. Ex: [1,2,3,2,3,1,3]. 3 is repeats odd \n",
    "times"
   ]
  },
  {
   "cell_type": "code",
   "execution_count": 3,
   "id": "9b239c16-5682-4895-a154-fa157352ef98",
   "metadata": {},
   "outputs": [
    {
     "name": "stdout",
     "output_type": "stream",
     "text": [
      " the number occuring odd number of times is: 3\n"
     ]
    }
   ],
   "source": [
    "def findOddOccurencenum(nums):\n",
    "    result = 0\n",
    "    \n",
    "    for num in nums:\n",
    "        result =+ num\n",
    "        \n",
    "    return result\n",
    "\n",
    "nums = [1,2,3,2,3,1,3]\n",
    "odd_occurence_num = findOddOccurencenum(nums)\n",
    "print(f\" the number occuring odd number of times is: {odd_occurence_num}\")"
   ]
  },
  {
   "cell_type": "code",
   "execution_count": null,
   "id": "c05442fa-4098-40ec-8fb5-8057a57b3b14",
   "metadata": {},
   "outputs": [],
   "source": [
    "Problem 4 : Given an array of n elements. Find two elements in the array such that their sum is equal to given \n",
    "element K"
   ]
  },
  {
   "cell_type": "code",
   "execution_count": 4,
   "id": "1a4b9798-3a68-40d7-9557-4aaade356c31",
   "metadata": {},
   "outputs": [
    {
     "name": "stdout",
     "output_type": "stream",
     "text": [
      "The pair with sum 10 is: (2, 8)\n"
     ]
    }
   ],
   "source": [
    "def find_pair_with_sum(nums, K):\n",
    "    # Step 1: Sort the array\n",
    "    nums.sort()\n",
    "\n",
    "    # Step 2: Initialize pointers\n",
    "    left = 0\n",
    "    right = len(nums) - 1\n",
    "\n",
    "    # Step 3: Use Two Pointers\n",
    "    while left < right:\n",
    "        current_sum = nums[left] + nums[right]\n",
    "\n",
    "        if current_sum == K:\n",
    "            return nums[left], nums[right]\n",
    "        elif current_sum < K:\n",
    "            left += 1\n",
    "        else:\n",
    "            right -= 1\n",
    "\n",
    "    # Step 4: Pair not found\n",
    "    return None\n",
    "\n",
    "# Example usage\n",
    "nums = [1, 2, 4, 6, 3, 7, 8]\n",
    "target_sum = 10\n",
    "pair = find_pair_with_sum(nums, target_sum)\n",
    "\n",
    "if pair:\n",
    "    print(f\"The pair with sum {target_sum} is: {pair}\")\n",
    "else:\n",
    "    print(f\"No pair found with sum {target_sum}\")"
   ]
  },
  {
   "cell_type": "code",
   "execution_count": null,
   "id": "77d3e8a2-daee-41a1-a3d8-8affd451feb6",
   "metadata": {},
   "outputs": [],
   "source": [
    "Problem 5 : Given an array of both positive and negative numbers, find two numbers such that their sum is \n",
    "closest to 0. Ex: [ 1 ,60 ,-10, 70, -80,85]. Ans : -80,85"
   ]
  },
  {
   "cell_type": "code",
   "execution_count": 5,
   "id": "bea9bc34-25c3-43e7-93fa-fc1843c78d88",
   "metadata": {},
   "outputs": [
    {
     "name": "stdout",
     "output_type": "stream",
     "text": [
      "Closest pair to zero: (-80, 85)\n"
     ]
    }
   ],
   "source": [
    "def closest_sum_to_zero(arr):\n",
    "    # Sort the array\n",
    "    arr.sort()\n",
    "\n",
    "    # Initialize variables to store the closest sum and the corresponding pair\n",
    "    closest_sum = float('inf')\n",
    "    pair = (None, None)\n",
    "\n",
    "    # Two pointers approach to find the pair with the closest sum to 0\n",
    "    left = 0\n",
    "    right = len(arr) - 1\n",
    "\n",
    "    while left < right:\n",
    "        current_sum = arr[left] + arr[right]\n",
    "\n",
    "        # Update the closest sum and pair if the current pair is closer to 0\n",
    "        if abs(current_sum) < abs(closest_sum):\n",
    "            closest_sum = current_sum\n",
    "            pair = (arr[left], arr[right])\n",
    "\n",
    "        # Move the pointers based on the comparison of current_sum with 0\n",
    "        if current_sum < 0:\n",
    "            left += 1\n",
    "        elif current_sum > 0:\n",
    "            right -= 1\n",
    "        else:\n",
    "            # If the sum is exactly 0, no need to continue, as it can't get any closer\n",
    "            break\n",
    "\n",
    "    return pair\n",
    "\n",
    "# Example usage\n",
    "arr = [1, 60, -10, 70, -80, 85]\n",
    "result = closest_sum_to_zero(arr)\n",
    "print(\"Closest pair to zero:\", result)"
   ]
  },
  {
   "cell_type": "code",
   "execution_count": null,
   "id": "7ecea2e6-420a-429e-8c2f-b2123a795b6c",
   "metadata": {},
   "outputs": [],
   "source": [
    "Problem 6 : Given an array of n elements . Find three elements such that their sum is equal to the given \n",
    "number"
   ]
  },
  {
   "cell_type": "code",
   "execution_count": 6,
   "id": "e6472ee5-852a-4014-8d83-d4fde572dd16",
   "metadata": {},
   "outputs": [
    {
     "name": "stdout",
     "output_type": "stream",
     "text": [
      "Triplets with sum equal to 18 : [[1, 2, 15]]\n"
     ]
    }
   ],
   "source": [
    "def three_sum_to_target(nums, target):\n",
    "    nums.sort()\n",
    "    result = []\n",
    "\n",
    "    for i in range(len(nums) - 2):\n",
    "        # Skip duplicates\n",
    "        if i > 0 and nums[i] == nums[i - 1]:\n",
    "            continue\n",
    "\n",
    "        left = i + 1\n",
    "        right = len(nums) - 1\n",
    "\n",
    "        while left < right:\n",
    "            current_sum = nums[i] + nums[left] + nums[right]\n",
    "\n",
    "            if current_sum == target:\n",
    "                result.append([nums[i], nums[left], nums[right]])\n",
    "\n",
    "                # Skip duplicates\n",
    "                while left < right and nums[left] == nums[left + 1]:\n",
    "                    left += 1\n",
    "                while left < right and nums[right] == nums[right - 1]:\n",
    "                    right -= 1\n",
    "\n",
    "                left += 1\n",
    "                right -= 1\n",
    "            elif current_sum < target:\n",
    "                left += 1\n",
    "            else:\n",
    "                right -= 1\n",
    "\n",
    "    return result\n",
    "\n",
    "# Example usage\n",
    "arr = [1, 4, 2, 7, 11, 15]\n",
    "target = 18\n",
    "result = three_sum_to_target(arr, target)\n",
    "print(\"Triplets with sum equal to\", target, \":\", result)\n"
   ]
  },
  {
   "cell_type": "code",
   "execution_count": null,
   "id": "13232f04-a643-4fff-ad51-859170e47fc8",
   "metadata": {},
   "outputs": [],
   "source": [
    "Problem 7 : Given an array of n elements . Find three elements i, j, k in the array such that\n",
    "\n",
    "i * i + j * j = k*k"
   ]
  },
  {
   "cell_type": "code",
   "execution_count": 7,
   "id": "eb2bcbe6-358f-4b19-ad30-e4e2962f40f1",
   "metadata": {},
   "outputs": [
    {
     "name": "stdout",
     "output_type": "stream",
     "text": [
      "Pythagorean triplet: [3, 4, 5]\n"
     ]
    }
   ],
   "source": [
    "def find_pythagorean_triplets(nums):\n",
    "    nums_set = set(x**2 for x in nums)\n",
    "\n",
    "    for i in range(len(nums)):\n",
    "        for j in range(i + 1, len(nums)):\n",
    "            sum_of_squares = nums[i]**2 + nums[j]**2\n",
    "\n",
    "            if sum_of_squares in nums_set:\n",
    "                k = int(sum_of_squares**0.5)\n",
    "                return [nums[i], nums[j], k]\n",
    "\n",
    "    return None\n",
    "\n",
    "# Example usage\n",
    "arr = [3, 1, 4, 6, 5]\n",
    "result = find_pythagorean_triplets(arr)\n",
    "print(\"Pythagorean triplet:\", result)"
   ]
  },
  {
   "cell_type": "code",
   "execution_count": null,
   "id": "453e6a80-9f4f-47c8-b426-b42173560dbf",
   "metadata": {},
   "outputs": [],
   "source": [
    "Problem 8 : An element is a majority if it appears more than n/2 times. Give an algorithm takes an array of n \n",
    "element as argument and identifies a majority (if it exists)."
   ]
  },
  {
   "cell_type": "code",
   "execution_count": 8,
   "id": "5528a2d1-301f-4780-af61-6634d381c8cf",
   "metadata": {},
   "outputs": [
    {
     "name": "stdout",
     "output_type": "stream",
     "text": [
      "Majority element: 2\n"
     ]
    }
   ],
   "source": [
    "def find_majority_element(nums):\n",
    "    candidate = None\n",
    "    count = 0\n",
    "\n",
    "    # Find a potential candidate for the majority element\n",
    "    for num in nums:\n",
    "        if count == 0:\n",
    "            candidate = num\n",
    "        count += 1 if num == candidate else -1\n",
    "\n",
    "    # Verify if the candidate is a majority element\n",
    "    count = nums.count(candidate)\n",
    "    if count > len(nums) // 2:\n",
    "        return candidate\n",
    "    else:\n",
    "        return None\n",
    "\n",
    "# Example usage\n",
    "arr = [2, 2, 1, 1, 1, 2, 2]\n",
    "result = find_majority_element(arr)\n",
    "\n",
    "if result is not None:\n",
    "    print(\"Majority element:\", result)\n",
    "else:\n",
    "    print(\"No majority element found.\")"
   ]
  },
  {
   "cell_type": "code",
   "execution_count": null,
   "id": "149ad12b-d8aa-4685-b389-26c973fe1fa7",
   "metadata": {},
   "outputs": [],
   "source": [
    "Problem 9 : Given n × n matrix, and in each row all 1’s are followed by 0’s. Find the row with the maximum \n",
    "number of 0’s."
   ]
  },
  {
   "cell_type": "code",
   "execution_count": 9,
   "id": "c2070b13-f6f1-44e8-bc29-2e4c5905321b",
   "metadata": {},
   "outputs": [
    {
     "name": "stdout",
     "output_type": "stream",
     "text": [
      "Row with the maximum number of 0's: 1\n"
     ]
    }
   ],
   "source": [
    "def find_row_with_max_zeros(matrix):\n",
    "    n = len(matrix)\n",
    "    max_zeros_row = 0\n",
    "    max_zeros_count = 0\n",
    "\n",
    "    for i in range(n):\n",
    "        zeros_count = count_zeros(matrix[i])\n",
    "        if zeros_count > max_zeros_count:\n",
    "            max_zeros_count = zeros_count\n",
    "            max_zeros_row = i\n",
    "\n",
    "    return max_zeros_row\n",
    "\n",
    "def count_zeros(row):\n",
    "    count = 0\n",
    "    for element in reversed(row):\n",
    "        if element == 0:\n",
    "            count += 1\n",
    "        else:\n",
    "            break\n",
    "    return count\n",
    "\n",
    "# Example usage\n",
    "matrix = [\n",
    "    [1, 1, 1, 0, 0],\n",
    "    [1, 1, 0, 0, 0],\n",
    "    [1, 1, 1, 1, 0],\n",
    "    [1, 1, 0, 0, 0],\n",
    "    [1, 1, 1, 1, 1]\n",
    "]\n",
    "\n",
    "result = find_row_with_max_zeros(matrix)\n",
    "print(\"Row with the maximum number of 0's:\", result)\n"
   ]
  },
  {
   "cell_type": "code",
   "execution_count": null,
   "id": "e008f99e-a111-4f6b-9e02-c730f0317978",
   "metadata": {},
   "outputs": [],
   "source": [
    "Problem 10 : Sort an array of 0’s, 1’s and 2’s [or R’s, G’s and B’s]: Given an array A[] consisting of 0’s, 1’s and \n",
    "2’s, give an algorithm for sorting A[].The algorithm should put all 0’s first, then all 1’s and finally all 2’s at the \n",
    "end. Example Input = {0,1,1,0,1,2,1,2,0,0,0,1}, Output = {0,0,0,0,0,1,1,1,1,1,2,2"
   ]
  },
  {
   "cell_type": "code",
   "execution_count": 10,
   "id": "898c3c71-e9a0-4812-b29a-573b63703ba3",
   "metadata": {},
   "outputs": [
    {
     "name": "stdout",
     "output_type": "stream",
     "text": [
      "Sorted array: [0, 0, 0, 0, 0, 1, 1, 1, 1, 1, 2, 2]\n"
     ]
    }
   ],
   "source": [
    "def sort_colors(arr):\n",
    "    left = 0\n",
    "    mid = 0\n",
    "    right =len(arr) - 1\n",
    "\n",
    "    while mid <= right:\n",
    "        if arr[mid] == 0:\n",
    "            arr[left], arr[mid] = arr[mid], arr[left]\n",
    "            left += 1\n",
    "            mid += 1\n",
    "        elif arr[mid] == 1:\n",
    "            mid += 1\n",
    "        else:\n",
    "            arr[mid], arr[right] = arr[right], arr[mid]\n",
    "            right -= 1\n",
    "\n",
    "# Example usage\n",
    "arr = [0, 1, 1, 0, 1, 2, 1, 2, 0, 0, 0, 1]\n",
    "sort_colors(arr)\n",
    "print(\"Sorted array:\", arr)\n"
   ]
  },
  {
   "cell_type": "code",
   "execution_count": null,
   "id": "66359460-be06-47d6-8c55-389958ca527f",
   "metadata": {},
   "outputs": [],
   "source": []
  }
 ],
 "metadata": {
  "kernelspec": {
   "display_name": "Python 3 (ipykernel)",
   "language": "python",
   "name": "python3"
  },
  "language_info": {
   "codemirror_mode": {
    "name": "ipython",
    "version": 3
   },
   "file_extension": ".py",
   "mimetype": "text/x-python",
   "name": "python",
   "nbconvert_exporter": "python",
   "pygments_lexer": "ipython3",
   "version": "3.10.8"
  }
 },
 "nbformat": 4,
 "nbformat_minor": 5
}
